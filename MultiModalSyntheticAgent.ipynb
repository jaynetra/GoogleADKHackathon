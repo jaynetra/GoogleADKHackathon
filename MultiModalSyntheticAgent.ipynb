{
  "cells": [
    {
      "cell_type": "markdown",
      "metadata": {
        "id": "view-in-github",
        "colab_type": "text"
      },
      "source": [
        "<a href=\"https://colab.research.google.com/github/jaynetra/GoogleADKHackathon/blob/main/MultiModalSyntheticAgent.ipynb\" target=\"_parent\"><img src=\"https://colab.research.google.com/assets/colab-badge.svg\" alt=\"Open In Colab\"/></a>"
      ]
    },
    {
      "cell_type": "markdown",
      "metadata": {
        "id": "Np0plMPXRvoq"
      },
      "source": [
        "# Multi modal synthetic data generator with ADK\n",
        "\n",
        "**Motivation for Multimodal synthetic data generator**\n",
        "\n",
        "Synthetic data has been around in one form or another for decades.But it is much more important as quality real world data is very hard to get access to for innovation. Many tools are available that address generation of single modality for synthetic data. e.g. for **Tabular Synthetic Data** that is very useful in healthcare/financial domains, tools such as SDV,dbtwin etc. can be used. Similarly there are innovative models for generation of images and audio. But access to meaningful connected multi modal synthetic data  is an industry problem, that can actually fuel innovation. The core idea for this project is to create a multi agent, multi modal super agent that can create multi modal synthetic data using various tools. This is designed as  **multi-agent system** with main agent delegating task for different modality to different subagents.\n",
        "\n",
        "The system design uses  a multi agent pattern to develop the **MultiModalSyntheticDataGeneratorAgent** component. This agent delegates the tasks to subagents that specialize in one modality. Following modalities are covered\n",
        "\n",
        "* Synthetic Tabular Data\n",
        "* Image creation\n",
        "* Synthetic medical notes\n",
        "\n",
        "The design is modular to add other modalities can be added easily.\n",
        "\n",
        "\n",
        "**Architecture Diagram**\n",
        "\n",
        "\n",
        "\n",
        "**Submission Requirement Checklist:**\n",
        "\n",
        "\n",
        "*   ✅ **Categories: Content creation and Generation**\n",
        "\n",
        "Designing specialized sub-agents and enabling automatic routing (`auto flow`) of user requests to the most appropriate agent within a team.\n",
        "\n",
        "*   ✅ **Multi Agent:**\n",
        "\n",
        "Crafting Python functions (`tools`) that grant agents specific abilities (like fetching data) and instructing agents on how to use them effectively.\n",
        "\n",
        "*   ✅ **Architecture Diagram:**\n",
        "\n",
        "Crafting Python functions (`tools`) that grant agents specific abilities (like fetching data) and instructing agents on how to use them effectively.\n",
        "\n",
        "*   ✅ **Tools and Frameworks: ADK:**\n",
        "\n",
        "Utilizing `Session State` and `ToolContext` to enable agents to remember information across conversational turns, leading to more contextual interactions.\n",
        "\n",
        "*   ✅ **New Project:**\n",
        "Implementing `before_model_callback` and `before_tool_callback` to inspect, modify, or block requests/tool usage based on predefined rules, enhancing application safety and control.\n",
        "\n",
        "*   ✅ **Project Hosting:**\n",
        "On collab environment. The link will be shared for judging\n",
        "\n",
        "*   ✅ **Project Text Description:**\n",
        "On collab environment. The link will be shared for judging\n",
        "\n",
        "*   ✅ **URL to public repo:**\n",
        "On collab environment. The link will be shared for judging\n",
        "\n",
        "*   ✅ **Submission Video Link public:**\n",
        "On collab environment. The link will be shared for judging\n",
        "\n",
        "\n",
        "**Future work:**\n",
        "\n",
        "*   ✅ **Connected synthetic data:** Many industries need connected synthetic data based on the industry domain that is multi modal. Understand the domain and create framework to connect the modalities\n",
        "\n",
        "*   ✅ **Scaling and cost:** Get understanding of scale and cost. While cost per token is a rule of thumb, figure out what other factors need to be understood.\n",
        "  "
      ]
    },
    {
      "cell_type": "code",
      "execution_count": 1,
      "metadata": {
        "id": "ARCoeUZCRNGi",
        "outputId": "cfcb69c7-4f74-41c5-ae83-f92e03d6bb35",
        "colab": {
          "base_uri": "https://localhost:8080/"
        }
      },
      "outputs": [
        {
          "output_type": "stream",
          "name": "stdout",
          "text": [
            "Installation complete.\n"
          ]
        }
      ],
      "source": [
        "# @title Step 0: Setup and Installation\n",
        "# Install ADK and LiteLLM for multi-model support\n",
        "\n",
        "!pip install google-adk -q\n",
        "!pip install litellm -q\n",
        "!pip install sdv -q\n",
        "\n",
        "print(\"Installation complete.\")"
      ]
    },
    {
      "cell_type": "code",
      "execution_count": 2,
      "metadata": {
        "id": "sbwxKypOSBkN",
        "outputId": "5de55231-3c2a-4872-fddd-b11e1d51b987",
        "colab": {
          "base_uri": "https://localhost:8080/"
        }
      },
      "outputs": [
        {
          "output_type": "stream",
          "name": "stdout",
          "text": [
            "Libraries imported.\n"
          ]
        }
      ],
      "source": [
        "# @title Step 1: Import necessary libraries\n",
        "import os\n",
        "import asyncio\n",
        "from google.adk.agents import Agent\n",
        "from google.adk.models.lite_llm import LiteLlm # For multi-model support\n",
        "from google.adk.sessions import InMemorySessionService\n",
        "from google.adk.runners import Runner\n",
        "from google.genai import types # For creating message Content/Parts\n",
        "\n",
        "import warnings\n",
        "# Ignore all warnings\n",
        "warnings.filterwarnings(\"ignore\")\n",
        "\n",
        "import logging\n",
        "logging.basicConfig(level=logging.ERROR)\n",
        "\n",
        "print(\"Libraries imported.\")"
      ]
    },
    {
      "cell_type": "code",
      "execution_count": 3,
      "metadata": {
        "id": "3mNsVI5eSDOi"
      },
      "outputs": [],
      "source": [
        "# @title Step 2: Configure API Keys\n",
        "# --- IMPORTANT: Replace placeholders with your real API keys ---\n",
        "\n",
        "\n",
        "from google.colab import userdata\n",
        "#GOOGLE_API_KEY = userdata.get('GOOGLE_KEY')\n",
        "os.environ[\"GOOGLE_API_KEY\"] = userdata.get('GOOGLE_KEY')\n",
        "MODEL_GEMINI_2_0_FLASH = \"gemini-2.0-flash\"\n",
        "\n",
        "\n"
      ]
    },
    {
      "cell_type": "markdown",
      "source": [
        "# Step 3 : Create functions for different modalities"
      ],
      "metadata": {
        "id": "Ul5BI0pLfqRX"
      }
    },
    {
      "cell_type": "markdown",
      "metadata": {
        "id": "F7LZM3ysSOMu"
      },
      "source": [
        "---\n",
        "\n",
        "## Modality 1: Synthetic tabular data\n",
        "\n",
        "Use sdv framework which is a open source tool to create. For hackathon purposes using the dataset in the framework that is public. In real scenarios, this step takes a lot of effort\n",
        "\n",
        "1. **A Tool:** A Python function that equips the agent with the *ability* to get synthetic data. Because there is limited resources and the goal is to understand the ADK concepts, return only 5 rows and returns as a json record structure. Since the model we use only outputs text, json is a good way to represent the output.\n",
        "\n",
        "2. **An Agent:** The AI \"brain\" that understands the user's request, knows it has a tabular data generation tool, and decides when and how to use it.\n",
        "\n",
        "\n"
      ]
    },
    {
      "cell_type": "code",
      "execution_count": 4,
      "metadata": {
        "id": "ILy7YTCbSRAT"
      },
      "outputs": [],
      "source": [
        "# @title Define the get_tabular_synthetic_data function\n",
        "# using sdv.dev so not need to deal with keys etc.\n",
        "\n",
        "import pandas as pd\n",
        "    # Mock tabular data\n",
        "from sdv.datasets.demo import download_demo\n",
        "from sdv.single_table import GaussianCopulaSynthesizer\n",
        "\n",
        "def get_tabular_synthetic_data() -> dict:\n",
        "    \"\"\"Retrieves the current weather report for a specified city.\n",
        "\n",
        "       Returns:\n",
        "        dict: A dictionary containing default dataframe to dict function.\n",
        "              Includes a 'status' key ('success' or 'error').\n",
        "     \"\"\"\n",
        "\n",
        "    real_data, metadata = download_demo(\n",
        "    modality='single_table',\n",
        "    dataset_name='fake_hotel_guests')\n",
        "\n",
        "    synthesizer = GaussianCopulaSynthesizer(metadata)\n",
        "    synthesizer.fit(data=real_data)\n",
        "\n",
        "    df_synth = synthesizer.sample(num_rows=5)\n",
        "\n",
        "    return df_synth.to_json(orient='records')\n"
      ]
    },
    {
      "cell_type": "markdown",
      "source": [],
      "metadata": {
        "id": "Ninz7-Yexacu"
      }
    },
    {
      "cell_type": "markdown",
      "metadata": {
        "id": "RAiYeYquxaxi"
      },
      "source": [
        "---\n",
        "\n",
        "## Modality 2: Synthetic Image\n",
        "\n",
        "Use Gen AI tool kit with google's image generating model\n",
        "\n",
        "1. **A Tool:** A Python function that equips the agent with the *ability* to get synthetic image. Use google image generation model *gemini-2.0-flash-preview-image-generation*\n",
        "2. **An Agent:** The AI \"brain\" that understands the user's request, knows it has a image generation tool, and decides when and how to use it.\n",
        "\n",
        "3. Returns image as json since we are using a text gen model GEMINI FLASH model that can take multi modal but can only generate text\n"
      ]
    },
    {
      "cell_type": "code",
      "execution_count": 5,
      "metadata": {
        "id": "8OV9_VgFwIlE"
      },
      "outputs": [],
      "source": [
        "# @title Define Tools for image synthetic agent\n",
        "from typing import Optional # Make sure to import Optional\n",
        "from google.adk.tools.tool_context import ToolContext\n",
        "import io\n",
        "\n",
        "\n",
        "def get_synthetic_image_google():\n",
        "    \"\"\"Provides a synthetic image. If a name is provided, it will be used.\n",
        "\n",
        "    Args:\n",
        "        nametool_context (ToolContext): Tool context to save as artifact.\n",
        "\n",
        "    Returns:\n",
        "        dict: A dictionary containing the image.\n",
        "\n",
        "    \"\"\"\n",
        "\n",
        "    from google import genai\n",
        "    from google.genai import types\n",
        "    from PIL import Image\n",
        "    from io import BytesIO\n",
        "    import base64\n",
        "    import json, numpy as np\n",
        "\n",
        "\n",
        "    from PIL import Image, ImageDraw\n",
        "    width = 400\n",
        "    height = 400\n",
        "    image = Image.new('RGB', (25,25), 'red')\n",
        "    contents = (\"generate a red square image simple one and a tiny one\")\n",
        "    client = genai.Client()\n",
        "\n",
        "    response = client.models.generate_content(model=\"gemini-2.0-flash-preview-image-generation\",contents=contents,\n",
        "                                             config=types.GenerateContentConfig(response_modalities=['TEXT', 'IMAGE']))\n",
        "\n",
        "    print(response)\n",
        "    for part in response.candidates[0].content.parts:\n",
        "      if part.text is not None:\n",
        "        print(part.text)\n",
        "      if part.inline_data is not None:\n",
        "        image = Image.open(BytesIO((part.inline_data.data)))\n",
        "        image.save('gemini-native-image.png')\n",
        "        #display(image)\n",
        "\n",
        "    json_data = json.dumps(np.array(image).tolist()[:100])\n",
        "    return json_data\n",
        "\n",
        "\n"
      ]
    },
    {
      "cell_type": "code",
      "execution_count": 6,
      "metadata": {
        "id": "I1hvVSS1BIds"
      },
      "outputs": [],
      "source": [
        "# @title Define Tools for image synthetic agent\n",
        "from typing import Optional # Make sure to import Optional\n",
        "\n",
        "import io\n",
        "\n",
        "\n",
        "def get_synthetic_image():\n",
        "    \"\"\"Provides a synthetic image. If a name is provided, it will be used.\n",
        "\n",
        "    Args:\n",
        "        nametool_context (ToolContext): Tool context to save as artifact.\n",
        "\n",
        "    Returns:\n",
        "        dict: A dictionary containing the image.\n",
        "\n",
        "    \"\"\"\n",
        "\n",
        "    from google import genai\n",
        "    from google.genai import types\n",
        "    from PIL import Image\n",
        "    from io import BytesIO\n",
        "    import base64\n",
        "    import json, numpy as np\n",
        "\n",
        "\n",
        "    from PIL import Image, ImageDraw\n",
        "    from diffusers import StableDiffusionPipeline, EulerDiscreteScheduler\n",
        "    import torch\n",
        "\n",
        "    model_id = \"stabilityai/stable-diffusion-2\"\n",
        "    scheduler = EulerDiscreteScheduler.from_pretrained(model_id, subfolder=\"scheduler\")\n",
        "    pipe = StableDiffusionPipeline.from_pretrained(model_id, scheduler=scheduler, torch_dtype=torch.float16)\n",
        "    pipe = pipe.to(\"cuda\")\n",
        "\n",
        "    prompt = \"a simple cat\"\n",
        "    image = pipe(prompt).images[0]\n",
        "\n",
        "    json_data = json.dumps(np.array(image).tolist())\n",
        "    return json_data[:100]\n",
        "\n",
        "\n"
      ]
    },
    {
      "cell_type": "code",
      "source": [
        "get_synthetic_image()"
      ],
      "metadata": {
        "colab": {
          "base_uri": "https://localhost:8080/",
          "height": 99,
          "referenced_widgets": [
            "defb7b5d5e07490a82a6e5e320f7123b",
            "f139e18b6d0545948e5f8d30d73b1db4",
            "513fe174e7b84d4daca806038f86218f",
            "ee2d296c3c1640a696aee12b6bbc99c2",
            "c1c14d5f183a4daf87c887dbb285800f",
            "fc5b4fb731834b78a259ee3c1ae62983",
            "217cc3b7f0684cc4a54ae66f2b9b36a3",
            "0c4a53bc194b4aff9b229916200b5bb6",
            "469e4c56ce974260a559b966ffcd40cf",
            "660878efeb714635a8d265ad987d6fcd",
            "0b25ceb333034f49b02bc094b8a9f778",
            "1044bb113d954c49a596e2085936c96a",
            "8a51af8b745044878ae8e0eca83abc6f",
            "2c1a7ea415cf40048e7fabb4377a387e",
            "b3f2035b723644a9aaf3506b2ae5712b",
            "c2fb65d1e88b4275ba19fff8f367cafc",
            "19f8512e91314d9fb6a01ba815384812",
            "b201f9d3a7694e4baca3e2411424f647",
            "0e473b238bba4a459a135f8694d3e0cf",
            "baee57c3445d4f868f521232bed5e4e0",
            "ea70d76b7f2f48c28d1ca7bbd437b079",
            "140f2b64f9d5414a89889ddb0cfd03af"
          ]
        },
        "id": "_5V3cFykCIKq",
        "outputId": "b1008c2f-3cc5-4eac-a350-d6ea0e20f8f3"
      },
      "execution_count": 7,
      "outputs": [
        {
          "output_type": "display_data",
          "data": {
            "text/plain": [
              "Loading pipeline components...:   0%|          | 0/6 [00:00<?, ?it/s]"
            ],
            "application/vnd.jupyter.widget-view+json": {
              "version_major": 2,
              "version_minor": 0,
              "model_id": "defb7b5d5e07490a82a6e5e320f7123b"
            }
          },
          "metadata": {}
        },
        {
          "output_type": "display_data",
          "data": {
            "text/plain": [
              "  0%|          | 0/50 [00:00<?, ?it/s]"
            ],
            "application/vnd.jupyter.widget-view+json": {
              "version_major": 2,
              "version_minor": 0,
              "model_id": "1044bb113d954c49a596e2085936c96a"
            }
          },
          "metadata": {}
        },
        {
          "output_type": "execute_result",
          "data": {
            "text/plain": [
              "'[[[114, 113, 112], [113, 114, 114], [113, 113, 113], [114, 113, 113], [114, 114, 114], [114, 113, 11'"
            ],
            "application/vnd.google.colaboratory.intrinsic+json": {
              "type": "string"
            }
          },
          "metadata": {},
          "execution_count": 7
        }
      ]
    },
    {
      "cell_type": "markdown",
      "metadata": {
        "id": "hAM0BqGWSTo5"
      },
      "source": [
        "---\n",
        "\n",
        "# Step 4 Create agents for different modalities\n",
        "Define the Tabular Syntetic Agent and Synthetic Image Agent\n",
        "\n",
        "\n"
      ]
    },
    {
      "cell_type": "code",
      "execution_count": 8,
      "metadata": {
        "id": "6Ho1COmKSUeV"
      },
      "outputs": [],
      "source": [
        "# @title Define the Tabular Synthetic Agent\n",
        "# Use one of the model constants defined earlier\n",
        "AGENT_MODEL = MODEL_GEMINI_2_0_FLASH # Starting with Gemini\n",
        "\n",
        "synth_agent = Agent(\n",
        "    name=\"synthetic_agent_v1\",\n",
        "    model=AGENT_MODEL, # Can be a string for Gemini or a LiteLlm object\n",
        "    description=\"Provides synthetic multi modal data.\",\n",
        "    instruction=\"You are a helpful synthetic data generator, that can generate multi modal, text and images that are connected. \",\n",
        "    tools=[get_tabular_synthetic_data])# Pass the function directly\n",
        "\n"
      ]
    },
    {
      "cell_type": "code",
      "execution_count": 9,
      "metadata": {
        "id": "kwSqqtJswXgA"
      },
      "outputs": [],
      "source": [
        "# @title Define the Image Synthetic Agent\n",
        "# Use one of the model constants defined earlier\n",
        "AGENT_MODEL = MODEL_GEMINI_2_0_FLASH # Starting with Gemini\n",
        "\n",
        "synth_image_agent = Agent(\n",
        "    name=\"synthetic_image_agent_v1\",\n",
        "    model=AGENT_MODEL, # Can be a string for Gemini or a LiteLlm object\n",
        "    description=\"Provides synthetic multi modal data.\",\n",
        "    instruction=\"You are a helpful synthetic data generator, that can generate multi modal, text and images that are connected. \",\n",
        "    tools=[get_synthetic_image])# Pass the function directly\n",
        "\n"
      ]
    },
    {
      "cell_type": "markdown",
      "source": [
        "# Step 6 : Set up master agent and subagents, agent delegation model"
      ],
      "metadata": {
        "id": "2zXpA5kSgye-"
      }
    },
    {
      "cell_type": "code",
      "source": [
        "# @title Define the Root Agent with Sub-Agents for multimodal agent\n",
        "\n",
        "# Ensure sub-agents were created successfully before defining the root agent.\n",
        "# Also ensure the original 'get_weather' tool is defined.\n",
        "root_agent = None\n",
        "runner_root = None # Initialize runner\n",
        "multi_modal_super_agent = None\n",
        "if synth_image_agent:\n",
        "    # Let's use a capable Gemini model for the root agent to handle orchestration\n",
        "   root_agent_model = AGENT_MODEL\n",
        "   multi_modal_super_agent =  Agent(\n",
        "      name=\"multi_modal_super_agent_v1\", # Give it a new version name\n",
        "      model=root_agent_model,\n",
        "      description=\"The main multi modal  agent. Handles weather requests and delegates tabular and image generators.\",\n",
        "      instruction=\"You are the Super Muli modal synthetic Agent manager. Your primary responsibility is to provide tabular and image syntheic data. \"\n",
        "                   \"You have specialized sub-agents: \"\n",
        "                  \"1. 'synth_agent': Handles tabular data. \"\n",
        "                  \"2. 'synth_image_agent': Handles image data. \"\n",
        "                  \"Analyze the user's query. If it's a tabular synthetic request, delegate to 'synth_agent'. If it's a image, delegate to 'synth_image_agent'. \"\n",
        "                        \"For anything else, respond appropriately or state you cannot handle it.\",\n",
        "        # Key change: Link the sub-agents here!\n",
        "      sub_agents=[synth_agent,synth_image_agent]\n",
        "  )\n",
        "   print(f\"✅ Root Agent '{multi_modal_super_agent.name}' created using model '{root_agent_model}' \")\n",
        "else:\n",
        "    print(\"❌ Cannot create root agent because one or more sub-agents failed to initialize .\")\n"
      ],
      "metadata": {
        "id": "roPuxMtbymPF",
        "outputId": "3418e7ca-cde1-4597-8fbc-2d60d9902a14",
        "colab": {
          "base_uri": "https://localhost:8080/"
        }
      },
      "execution_count": 10,
      "outputs": [
        {
          "output_type": "stream",
          "name": "stdout",
          "text": [
            "✅ Root Agent 'multi_modal_super_agent_v1' created using model 'gemini-2.0-flash' \n"
          ]
        }
      ]
    },
    {
      "cell_type": "markdown",
      "source": [
        "#Step 7 : How is the agent interact with the function in collab environment"
      ],
      "metadata": {
        "id": "dgPuX-7Sg9Qc"
      }
    },
    {
      "cell_type": "code",
      "execution_count": 11,
      "metadata": {
        "id": "yZJr8lbkSebH"
      },
      "outputs": [],
      "source": [
        "# @title Define Agent Interaction Function\n",
        "\n",
        "from google.genai import types # For creating message Content/Parts\n",
        "\n",
        "async def call_agent_async(query: str, runner, user_id, session_id):\n",
        "  \"\"\"Sends a query to the agent and prints the final response.\"\"\"\n",
        "  print(f\"\\n>>> User Query: {query}\")\n",
        "\n",
        "\n",
        "  # Prepare the user's message in ADK format\n",
        "  content = types.Content(role='user', parts=[types.Part(text=query)])\n",
        "\n",
        "\n",
        "\n",
        "  final_response_text = \"Agent did not produce a final response.\" # Default\n",
        "\n",
        "  # Key Concept: run_async executes the agent logic and yields Events.\n",
        "  # We iterate through events to find the final answer.\n",
        "  async for event in runner.run_async(user_id=user_id, session_id=session_id, new_message=content):\n",
        "      # You can uncomment the line below to see *all* events during execution\n",
        "      print(f\"  [Event] Author: {event.author}, Type: {type(event).__name__}, Final: {event.is_final_response()}, Content: {event.content}\")\n",
        "      if event.content and event.content.parts:\n",
        "          if event.get_function_calls():\n",
        "              print(\"  Type: Tool Call Request\")\n",
        "          elif event.get_function_responses():\n",
        "              print(\"  Type: Tool Result\")\n",
        "              print(event.content.parts[0].function_response.response['result'])\n",
        "\n",
        "\n",
        "\n",
        "      # Key Concept: is_final_response() marks the concluding message for the turn.\n",
        "      if event.is_final_response():\n",
        "          if event.content and event.content.parts:\n",
        "             # Assuming text response in the first part\n",
        "             final_response_text = event.content.parts[0].text\n",
        "          elif event.actions and event.actions.escalate: # Handle potential errors/escalations\n",
        "             final_response_text = f\"Agent escalated: {event.error_message or 'No specific message.'}\"\n",
        "          # Add more checks here if needed (e.g., specific error codes)\n",
        "          break # Stop processing events once the final response is found\n",
        "\n",
        "\n",
        "  print(f\"<<< Agent Response: {final_response_text}\")\n"
      ]
    },
    {
      "cell_type": "markdown",
      "source": [
        "# Step 8 :Finally set up super agent, its session and some prompts to verify if the subagents are called correctly"
      ],
      "metadata": {
        "id": "Ij5RFgfWhX0c"
      }
    },
    {
      "cell_type": "code",
      "source": [
        "# @title Interact with the Super Agent\n",
        "import asyncio # Ensure asyncio is imported\n",
        "from google.adk.sessions import InMemorySessionService\n",
        "from google.adk.artifacts import InMemoryArtifactService\n",
        "from google.adk.runners import Runner\n",
        "\n",
        "# Ensure the root agent (e.g., 'weather_agent_team' or 'root_agent' from the previous cell) is defined.\n",
        "# Ensure the call_agent_async function is defined.\n",
        "\n",
        "# Check if the root agent variable exists before defining the conversation function\n",
        "root_agent_var_name = 'root_agent' # Default name from Step 3 guide\n",
        "if 'multi_modal_super_agent' in globals(): # Check if user used this name instead\n",
        "    root_agent_var_name = 'multi_modal_super_agent'\n",
        "elif 'root_agent' not in globals():\n",
        "    print(\"⚠️ Root agent ('root_agent' or 'weather_agent_team') not found. Cannot define run_team_conversation.\")\n",
        "    # Assign a dummy value to prevent NameError later if the code block runs anyway\n",
        "    root_agent = None # Or set a flag to prevent execution\n",
        "\n",
        "# Only define and run if the root agent exists\n",
        "if root_agent_var_name in globals() and globals()[root_agent_var_name]:\n",
        "    # Define the main async function for the conversation logic.\n",
        "    # The 'await' keywords INSIDE this function are necessary for async operations.\n",
        "    async def run_synthetic_conversation():\n",
        "        print(\"\\n--- Testing Agent Team Delegation ---\")\n",
        "        session_service = InMemorySessionService()\n",
        "        artifact_service =InMemoryArtifactService()\n",
        "        # Choose an implementation\n",
        "\n",
        "        APP_NAME = \"multi_modal_synthetic_agent\"\n",
        "        USER_ID = \"user_1_synthetica_agent\"\n",
        "        SESSION_ID = \"session_001_synthetic_agent\"\n",
        "        session = await session_service.create_session(\n",
        "            app_name=APP_NAME, user_id=USER_ID, session_id=SESSION_ID\n",
        "        )\n",
        "        print(f\"Session created: App='{APP_NAME}', User='{USER_ID}', Session='{SESSION_ID}'\")\n",
        "\n",
        "        actual_root_agent = globals()[root_agent_var_name]\n",
        "        runner_agent_team = Runner( # Or use InMemoryRunner\n",
        "            agent=actual_root_agent,\n",
        "            app_name=APP_NAME,\n",
        "            session_service=session_service,\n",
        "            artifact_service=artifact_service\n",
        "         )\n",
        "        print(f\"Runner created for agent '{actual_root_agent.name}'.\")\n",
        "\n",
        "        # --- Interactions using await (correct within async def) ---\n",
        "\n",
        "\n",
        "        await call_agent_async(query = \"generate an image\",\n",
        "                               runner=runner_agent_team,\n",
        "                               user_id=USER_ID,\n",
        "                               session_id=SESSION_ID)\n",
        "\n",
        "        await call_agent_async(query = \"generate tabular data\",\n",
        "                               runner=runner_agent_team,\n",
        "                               user_id=USER_ID,\n",
        "                               session_id=SESSION_ID)\n",
        "\n",
        "\n",
        "print(\"Attempting execution using 'await' (default for notebooks)...\")\n",
        "await run_synthetic_conversation()\n",
        "\n"
      ],
      "metadata": {
        "id": "L54VIqbSh6KM",
        "outputId": "58ce6e3e-edf3-48e0-d2ed-a072489ab462",
        "colab": {
          "base_uri": "https://localhost:8080/",
          "height": 976,
          "referenced_widgets": [
            "c12e54217e494e43b6c7cca593a68076",
            "4d68a221345c46b7b8e8e27bc109ff92",
            "09fb4ef3326940fc9a4bbaf5dbde5345",
            "63b0a709f2c348e7b8f5e0ad76755889",
            "616c54df065a453fa0530e19a47a41f0",
            "3415c111ce5f44b5a498350cb761ec20",
            "b551b7761f334cf085f8a348993c3013",
            "b3c63c9f6a194c5ba1fd25258ae4a719",
            "edb3fe98da784c67b7278f51fb876fc0",
            "e534d3f79fbe47e198dd95f2f53eaa1a",
            "8fac0907bdfc40649e03160e20990311",
            "dbd4756930834314af012c00d2b5a1e0",
            "e908cf8e216a4283a50a7894819e1d39",
            "7d162ff74943460d92381f38c8fb4eb1",
            "b09d569f6aa4436493da0fcbaf913d49",
            "106d2c77e8854932838a96b73ce52fd6",
            "6fba84c2ca3e4613bbd21d2eb28bfd8d",
            "45e05f413a43491b95b7d200198b6704",
            "0a77d96d04d14b3199cb8b367069a943",
            "c13a40e59f324bb78abae386155c2a36",
            "843685566b6c4fb9b0c989249dbe20fb",
            "c6333bdb15dd497cb802eb08d46ea002"
          ]
        }
      },
      "execution_count": 12,
      "outputs": [
        {
          "output_type": "stream",
          "name": "stdout",
          "text": [
            "Attempting execution using 'await' (default for notebooks)...\n",
            "\n",
            "--- Testing Agent Team Delegation ---\n",
            "Session created: App='multi_modal_synthetic_agent', User='user_1_synthetica_agent', Session='session_001_synthetic_agent'\n",
            "Runner created for agent 'multi_modal_super_agent_v1'.\n",
            "\n",
            ">>> User Query: generate an image\n"
          ]
        },
        {
          "output_type": "stream",
          "name": "stderr",
          "text": [
            "WARNING:google_genai.types:Warning: there are non-text parts in the response: ['function_call'], returning concatenated text result from text parts. Check the full candidates.content.parts accessor to get the full model response.\n"
          ]
        },
        {
          "output_type": "stream",
          "name": "stdout",
          "text": [
            "  [Event] Author: multi_modal_super_agent_v1, Type: Event, Final: False, Content: parts=[Part(video_metadata=None, thought=None, inline_data=None, file_data=None, thought_signature=None, code_execution_result=None, executable_code=None, function_call=FunctionCall(id='adk-350f0487-aad3-4e4e-a85a-ec5dcb0a3fd4', args={'agent_name': 'synthetic_image_agent_v1'}, name='transfer_to_agent'), function_response=None, text=None)] role='model'\n",
            "  Type: Tool Call Request\n",
            "  [Event] Author: multi_modal_super_agent_v1, Type: Event, Final: False, Content: parts=[Part(video_metadata=None, thought=None, inline_data=None, file_data=None, thought_signature=None, code_execution_result=None, executable_code=None, function_call=None, function_response=FunctionResponse(will_continue=None, scheduling=None, id='adk-350f0487-aad3-4e4e-a85a-ec5dcb0a3fd4', name='transfer_to_agent', response={'result': None}), text=None)] role='user'\n",
            "  Type: Tool Result\n",
            "None\n"
          ]
        },
        {
          "output_type": "stream",
          "name": "stderr",
          "text": [
            "WARNING:google_genai.types:Warning: there are non-text parts in the response: ['function_call'], returning concatenated text result from text parts. Check the full candidates.content.parts accessor to get the full model response.\n"
          ]
        },
        {
          "output_type": "stream",
          "name": "stdout",
          "text": [
            "  [Event] Author: synthetic_image_agent_v1, Type: Event, Final: False, Content: parts=[Part(video_metadata=None, thought=None, inline_data=None, file_data=None, thought_signature=None, code_execution_result=None, executable_code=None, function_call=FunctionCall(id='adk-40aa654d-bcb2-47f6-95f1-f747477309da', args={}, name='get_synthetic_image'), function_response=None, text=None)] role='model'\n",
            "  Type: Tool Call Request\n"
          ]
        },
        {
          "output_type": "display_data",
          "data": {
            "text/plain": [
              "Loading pipeline components...:   0%|          | 0/6 [00:00<?, ?it/s]"
            ],
            "application/vnd.jupyter.widget-view+json": {
              "version_major": 2,
              "version_minor": 0,
              "model_id": "c12e54217e494e43b6c7cca593a68076"
            }
          },
          "metadata": {}
        },
        {
          "output_type": "display_data",
          "data": {
            "text/plain": [
              "  0%|          | 0/50 [00:00<?, ?it/s]"
            ],
            "application/vnd.jupyter.widget-view+json": {
              "version_major": 2,
              "version_minor": 0,
              "model_id": "dbd4756930834314af012c00d2b5a1e0"
            }
          },
          "metadata": {}
        },
        {
          "output_type": "stream",
          "name": "stdout",
          "text": [
            "  [Event] Author: synthetic_image_agent_v1, Type: Event, Final: False, Content: parts=[Part(video_metadata=None, thought=None, inline_data=None, file_data=None, thought_signature=None, code_execution_result=None, executable_code=None, function_call=None, function_response=FunctionResponse(will_continue=None, scheduling=None, id='adk-40aa654d-bcb2-47f6-95f1-f747477309da', name='get_synthetic_image', response={'result': '[[[84, 74, 68], [55, 40, 35], [43, 25, 19], [39, 24, 17], [36, 22, 15], [36, 20, 13], [41, 24, 15], '}), text=None)] role='user'\n",
            "  Type: Tool Result\n",
            "[[[84, 74, 68], [55, 40, 35], [43, 25, 19], [39, 24, 17], [36, 22, 15], [36, 20, 13], [41, 24, 15], \n",
            "  [Event] Author: synthetic_image_agent_v1, Type: Event, Final: True, Content: parts=[Part(video_metadata=None, thought=None, inline_data=None, file_data=None, thought_signature=None, code_execution_result=None, executable_code=None, function_call=None, function_response=None, text='I have generated a synthetic image.\\n')] role='model'\n",
            "<<< Agent Response: I have generated a synthetic image.\n",
            "\n",
            "\n",
            ">>> User Query: generate tabular data\n"
          ]
        },
        {
          "output_type": "stream",
          "name": "stderr",
          "text": [
            "WARNING:google_genai.types:Warning: there are non-text parts in the response: ['function_call'], returning concatenated text result from text parts. Check the full candidates.content.parts accessor to get the full model response.\n"
          ]
        },
        {
          "output_type": "stream",
          "name": "stdout",
          "text": [
            "  [Event] Author: synthetic_image_agent_v1, Type: Event, Final: False, Content: parts=[Part(video_metadata=None, thought=None, inline_data=None, file_data=None, thought_signature=None, code_execution_result=None, executable_code=None, function_call=None, function_response=None, text='I am designed to generate images, not tabular data. I will transfer you to an agent that can handle that.\\n'), Part(video_metadata=None, thought=None, inline_data=None, file_data=None, thought_signature=None, code_execution_result=None, executable_code=None, function_call=FunctionCall(id='adk-47f51f8b-6291-4f95-86a5-0ca7a51e9d3f', args={'agent_name': 'multi_modal_super_agent_v1'}, name='transfer_to_agent'), function_response=None, text=None)] role='model'\n",
            "  Type: Tool Call Request\n",
            "  [Event] Author: synthetic_image_agent_v1, Type: Event, Final: False, Content: parts=[Part(video_metadata=None, thought=None, inline_data=None, file_data=None, thought_signature=None, code_execution_result=None, executable_code=None, function_call=None, function_response=FunctionResponse(will_continue=None, scheduling=None, id='adk-47f51f8b-6291-4f95-86a5-0ca7a51e9d3f', name='transfer_to_agent', response={'result': None}), text=None)] role='user'\n",
            "  Type: Tool Result\n",
            "None\n"
          ]
        },
        {
          "output_type": "stream",
          "name": "stderr",
          "text": [
            "WARNING:google_genai.types:Warning: there are non-text parts in the response: ['function_call'], returning concatenated text result from text parts. Check the full candidates.content.parts accessor to get the full model response.\n"
          ]
        },
        {
          "output_type": "stream",
          "name": "stdout",
          "text": [
            "  [Event] Author: multi_modal_super_agent_v1, Type: Event, Final: False, Content: parts=[Part(video_metadata=None, thought=None, inline_data=None, file_data=None, thought_signature=None, code_execution_result=None, executable_code=None, function_call=FunctionCall(id='adk-62850ed7-a54a-433e-bd5b-da66cb2f9e13', args={'agent_name': 'synthetic_agent_v1'}, name='transfer_to_agent'), function_response=None, text=None)] role='model'\n",
            "  Type: Tool Call Request\n",
            "  [Event] Author: multi_modal_super_agent_v1, Type: Event, Final: False, Content: parts=[Part(video_metadata=None, thought=None, inline_data=None, file_data=None, thought_signature=None, code_execution_result=None, executable_code=None, function_call=None, function_response=FunctionResponse(will_continue=None, scheduling=None, id='adk-62850ed7-a54a-433e-bd5b-da66cb2f9e13', name='transfer_to_agent', response={'result': None}), text=None)] role='user'\n",
            "  Type: Tool Result\n",
            "None\n"
          ]
        },
        {
          "output_type": "stream",
          "name": "stderr",
          "text": [
            "WARNING:google_genai.types:Warning: there are non-text parts in the response: ['function_call'], returning concatenated text result from text parts. Check the full candidates.content.parts accessor to get the full model response.\n"
          ]
        },
        {
          "output_type": "stream",
          "name": "stdout",
          "text": [
            "  [Event] Author: synthetic_agent_v1, Type: Event, Final: False, Content: parts=[Part(video_metadata=None, thought=None, inline_data=None, file_data=None, thought_signature=None, code_execution_result=None, executable_code=None, function_call=FunctionCall(id='adk-18a68467-f779-4abf-ba27-ffcf45f95690', args={}, name='get_tabular_synthetic_data'), function_response=None, text=None)] role='model'\n",
            "  Type: Tool Call Request\n",
            "  [Event] Author: synthetic_agent_v1, Type: Event, Final: False, Content: parts=[Part(video_metadata=None, thought=None, inline_data=None, file_data=None, thought_signature=None, code_execution_result=None, executable_code=None, function_call=None, function_response=FunctionResponse(will_continue=None, scheduling=None, id='adk-18a68467-f779-4abf-ba27-ffcf45f95690', name='get_tabular_synthetic_data', response={'result': '[{\"guest_email\":\"dsullivan@example.net\",\"has_rewards\":false,\"room_type\":\"BASIC\",\"amenities_fee\":0.29,\"checkin_date\":\"27 Mar 2020\",\"checkout_date\":\"09 Mar 2020\",\"room_rate\":135.15,\"billing_address\":\"90469 Karla Knolls Apt. 781\\\\nSusanberg, CA 70033\",\"credit_card_number\":5161033759518983},{\"guest_email\":\"steven59@example.org\",\"has_rewards\":false,\"room_type\":\"DELUXE\",\"amenities_fee\":8.15,\"checkin_date\":\"07 Sep 2020\",\"checkout_date\":\"25 Jun 2020\",\"room_rate\":183.24,\"billing_address\":\"6108 Carla Ports Apt. 116\\\\nPort Evan, MI 71694\",\"credit_card_number\":4133047413145475690},{\"guest_email\":\"brandon15@example.net\",\"has_rewards\":false,\"room_type\":\"BASIC\",\"amenities_fee\":11.65,\"checkin_date\":\"22 Mar 2020\",\"checkout_date\":\"01 Apr 2020\",\"room_rate\":163.57,\"billing_address\":\"86709 Jeremy Manors Apt. 786\\\\nPort Garychester, NY 89396\",\"credit_card_number\":4977328103788},{\"guest_email\":\"humphreyjennifer@example.net\",\"has_rewards\":false,\"room_type\":\"BASIC\",\"amenities_fee\":48.12,\"checkin_date\":\"04 Jun 2020\",\"checkout_date\":\"14 May 2020\",\"room_rate\":127.75,\"billing_address\":\"8906 Bobby Trail\\\\nEast Sandra, NY 43986\",\"credit_card_number\":3524946844839485},{\"guest_email\":\"joshuabrown@example.net\",\"has_rewards\":false,\"room_type\":\"DELUXE\",\"amenities_fee\":11.07,\"checkin_date\":\"08 Jan 2020\",\"checkout_date\":\"13 Jan 2020\",\"room_rate\":180.12,\"billing_address\":\"732 Dennis Lane\\\\nPort Nicholasstad, DE 49786\",\"credit_card_number\":4446905799576890978}]'}), text=None)] role='user'\n",
            "  Type: Tool Result\n",
            "[{\"guest_email\":\"dsullivan@example.net\",\"has_rewards\":false,\"room_type\":\"BASIC\",\"amenities_fee\":0.29,\"checkin_date\":\"27 Mar 2020\",\"checkout_date\":\"09 Mar 2020\",\"room_rate\":135.15,\"billing_address\":\"90469 Karla Knolls Apt. 781\\nSusanberg, CA 70033\",\"credit_card_number\":5161033759518983},{\"guest_email\":\"steven59@example.org\",\"has_rewards\":false,\"room_type\":\"DELUXE\",\"amenities_fee\":8.15,\"checkin_date\":\"07 Sep 2020\",\"checkout_date\":\"25 Jun 2020\",\"room_rate\":183.24,\"billing_address\":\"6108 Carla Ports Apt. 116\\nPort Evan, MI 71694\",\"credit_card_number\":4133047413145475690},{\"guest_email\":\"brandon15@example.net\",\"has_rewards\":false,\"room_type\":\"BASIC\",\"amenities_fee\":11.65,\"checkin_date\":\"22 Mar 2020\",\"checkout_date\":\"01 Apr 2020\",\"room_rate\":163.57,\"billing_address\":\"86709 Jeremy Manors Apt. 786\\nPort Garychester, NY 89396\",\"credit_card_number\":4977328103788},{\"guest_email\":\"humphreyjennifer@example.net\",\"has_rewards\":false,\"room_type\":\"BASIC\",\"amenities_fee\":48.12,\"checkin_date\":\"04 Jun 2020\",\"checkout_date\":\"14 May 2020\",\"room_rate\":127.75,\"billing_address\":\"8906 Bobby Trail\\nEast Sandra, NY 43986\",\"credit_card_number\":3524946844839485},{\"guest_email\":\"joshuabrown@example.net\",\"has_rewards\":false,\"room_type\":\"DELUXE\",\"amenities_fee\":11.07,\"checkin_date\":\"08 Jan 2020\",\"checkout_date\":\"13 Jan 2020\",\"room_rate\":180.12,\"billing_address\":\"732 Dennis Lane\\nPort Nicholasstad, DE 49786\",\"credit_card_number\":4446905799576890978}]\n",
            "  [Event] Author: synthetic_agent_v1, Type: Event, Final: True, Content: parts=[Part(video_metadata=None, thought=None, inline_data=None, file_data=None, thought_signature=None, code_execution_result=None, executable_code=None, function_call=None, function_response=None, text='Here is the tabular synthetic data:\\n\\n```json\\n[{\"guest_email\": \"dsullivan@example.net\", \"has_rewards\": false, \"room_type\": \"BASIC\", \"amenities_fee\": 0.29, \"checkin_date\": \"27 Mar 2020\", \"checkout_date\": \"09 Mar 2020\", \"room_rate\": 135.15, \"billing_address\": \"90469 Karla Knolls Apt. 781\\\\nSusanberg, CA 70033\", \"credit_card_number\": 5161033759518983}, {\"guest_email\": \"steven59@example.org\", \"has_rewards\": false, \"room_type\": \"DELUXE\", \"amenities_fee\": 8.15, \"checkin_date\": \"07 Sep 2020\", \"checkout_date\": \"25 Jun 2020\", \"room_rate\": 183.24, \"billing_address\": \"6108 Carla Ports Apt. 116\\\\nPort Evan, MI 71694\", \"credit_card_number\": 4133047413145475690}, {\"guest_email\": \"brandon15@example.net\", \"has_rewards\": false, \"room_type\": \"BASIC\", \"amenities_fee\": 11.65, \"checkin_date\": \"22 Mar 2020\", \"checkout_date\": \"01 Apr 2020\", \"room_rate\": 163.57, \"billing_address\": \"86709 Jeremy Manors Apt. 786\\\\nPort Garychester, NY 89396\", \"credit_card_number\": 4977328103788}, {\"guest_email\": \"humphreyjennifer@example.net\", \"has_rewards\": false, \"room_type\": \"BASIC\", \"amenities_fee\": 48.12, \"checkin_date\": \"04 Jun 2020\", \"checkout_date\": \"14 May 2020\", \"room_rate\": 127.75, \"billing_address\": \"8906 Bobby Trail\\\\nEast Sandra, NY 43986\", \"credit_card_number\": 3524946844839485}, {\"guest_email\": \"joshuabrown@example.net\", \"has_rewards\": false, \"room_type\": \"DELUXE\", \"amenities_fee\": 11.07, \"checkin_date\": \"08 Jan 2020\", \"checkout_date\": \"13 Jan 2020\", \"room_rate\": 180.12, \"billing_address\": \"732 Dennis Lane\\\\nPort Nicholasstad, DE 49786\", \"credit_card_number\": 4446905799576890978}]\\n```\\n')] role='model'\n",
            "<<< Agent Response: Here is the tabular synthetic data:\n",
            "\n",
            "```json\n",
            "[{\"guest_email\": \"dsullivan@example.net\", \"has_rewards\": false, \"room_type\": \"BASIC\", \"amenities_fee\": 0.29, \"checkin_date\": \"27 Mar 2020\", \"checkout_date\": \"09 Mar 2020\", \"room_rate\": 135.15, \"billing_address\": \"90469 Karla Knolls Apt. 781\\nSusanberg, CA 70033\", \"credit_card_number\": 5161033759518983}, {\"guest_email\": \"steven59@example.org\", \"has_rewards\": false, \"room_type\": \"DELUXE\", \"amenities_fee\": 8.15, \"checkin_date\": \"07 Sep 2020\", \"checkout_date\": \"25 Jun 2020\", \"room_rate\": 183.24, \"billing_address\": \"6108 Carla Ports Apt. 116\\nPort Evan, MI 71694\", \"credit_card_number\": 4133047413145475690}, {\"guest_email\": \"brandon15@example.net\", \"has_rewards\": false, \"room_type\": \"BASIC\", \"amenities_fee\": 11.65, \"checkin_date\": \"22 Mar 2020\", \"checkout_date\": \"01 Apr 2020\", \"room_rate\": 163.57, \"billing_address\": \"86709 Jeremy Manors Apt. 786\\nPort Garychester, NY 89396\", \"credit_card_number\": 4977328103788}, {\"guest_email\": \"humphreyjennifer@example.net\", \"has_rewards\": false, \"room_type\": \"BASIC\", \"amenities_fee\": 48.12, \"checkin_date\": \"04 Jun 2020\", \"checkout_date\": \"14 May 2020\", \"room_rate\": 127.75, \"billing_address\": \"8906 Bobby Trail\\nEast Sandra, NY 43986\", \"credit_card_number\": 3524946844839485}, {\"guest_email\": \"joshuabrown@example.net\", \"has_rewards\": false, \"room_type\": \"DELUXE\", \"amenities_fee\": 11.07, \"checkin_date\": \"08 Jan 2020\", \"checkout_date\": \"13 Jan 2020\", \"room_rate\": 180.12, \"billing_address\": \"732 Dennis Lane\\nPort Nicholasstad, DE 49786\", \"credit_card_number\": 4446905799576890978}]\n",
            "```\n",
            "\n"
          ]
        }
      ]
    },
    {
      "cell_type": "markdown",
      "source": [
        "# Next Steps: The above 8 steps are the MVP functionalities to get an understanding of ADK. Still to experiment, deploy on Vertex AI, storing images using artifact service, applying guardrails etc."
      ],
      "metadata": {
        "id": "Q3CrsyrdhxOn"
      }
    }
  ],
  "metadata": {
    "colab": {
      "provenance": [],
      "gpuType": "T4",
      "include_colab_link": true
    },
    "kernelspec": {
      "display_name": "Python 3",
      "name": "python3"
    },
    "language_info": {
      "name": "python"
    },
    "accelerator": "GPU",
    "widgets": {
      "application/vnd.jupyter.widget-state+json": {
        "defb7b5d5e07490a82a6e5e320f7123b": {
          "model_module": "@jupyter-widgets/controls",
          "model_name": "HBoxModel",
          "model_module_version": "1.5.0",
          "state": {
            "_dom_classes": [],
            "_model_module": "@jupyter-widgets/controls",
            "_model_module_version": "1.5.0",
            "_model_name": "HBoxModel",
            "_view_count": null,
            "_view_module": "@jupyter-widgets/controls",
            "_view_module_version": "1.5.0",
            "_view_name": "HBoxView",
            "box_style": "",
            "children": [
              "IPY_MODEL_f139e18b6d0545948e5f8d30d73b1db4",
              "IPY_MODEL_513fe174e7b84d4daca806038f86218f",
              "IPY_MODEL_ee2d296c3c1640a696aee12b6bbc99c2"
            ],
            "layout": "IPY_MODEL_c1c14d5f183a4daf87c887dbb285800f"
          }
        },
        "f139e18b6d0545948e5f8d30d73b1db4": {
          "model_module": "@jupyter-widgets/controls",
          "model_name": "HTMLModel",
          "model_module_version": "1.5.0",
          "state": {
            "_dom_classes": [],
            "_model_module": "@jupyter-widgets/controls",
            "_model_module_version": "1.5.0",
            "_model_name": "HTMLModel",
            "_view_count": null,
            "_view_module": "@jupyter-widgets/controls",
            "_view_module_version": "1.5.0",
            "_view_name": "HTMLView",
            "description": "",
            "description_tooltip": null,
            "layout": "IPY_MODEL_fc5b4fb731834b78a259ee3c1ae62983",
            "placeholder": "​",
            "style": "IPY_MODEL_217cc3b7f0684cc4a54ae66f2b9b36a3",
            "value": "Loading pipeline components...: 100%"
          }
        },
        "513fe174e7b84d4daca806038f86218f": {
          "model_module": "@jupyter-widgets/controls",
          "model_name": "FloatProgressModel",
          "model_module_version": "1.5.0",
          "state": {
            "_dom_classes": [],
            "_model_module": "@jupyter-widgets/controls",
            "_model_module_version": "1.5.0",
            "_model_name": "FloatProgressModel",
            "_view_count": null,
            "_view_module": "@jupyter-widgets/controls",
            "_view_module_version": "1.5.0",
            "_view_name": "ProgressView",
            "bar_style": "success",
            "description": "",
            "description_tooltip": null,
            "layout": "IPY_MODEL_0c4a53bc194b4aff9b229916200b5bb6",
            "max": 6,
            "min": 0,
            "orientation": "horizontal",
            "style": "IPY_MODEL_469e4c56ce974260a559b966ffcd40cf",
            "value": 6
          }
        },
        "ee2d296c3c1640a696aee12b6bbc99c2": {
          "model_module": "@jupyter-widgets/controls",
          "model_name": "HTMLModel",
          "model_module_version": "1.5.0",
          "state": {
            "_dom_classes": [],
            "_model_module": "@jupyter-widgets/controls",
            "_model_module_version": "1.5.0",
            "_model_name": "HTMLModel",
            "_view_count": null,
            "_view_module": "@jupyter-widgets/controls",
            "_view_module_version": "1.5.0",
            "_view_name": "HTMLView",
            "description": "",
            "description_tooltip": null,
            "layout": "IPY_MODEL_660878efeb714635a8d265ad987d6fcd",
            "placeholder": "​",
            "style": "IPY_MODEL_0b25ceb333034f49b02bc094b8a9f778",
            "value": " 6/6 [00:25&lt;00:00,  3.29s/it]"
          }
        },
        "c1c14d5f183a4daf87c887dbb285800f": {
          "model_module": "@jupyter-widgets/base",
          "model_name": "LayoutModel",
          "model_module_version": "1.2.0",
          "state": {
            "_model_module": "@jupyter-widgets/base",
            "_model_module_version": "1.2.0",
            "_model_name": "LayoutModel",
            "_view_count": null,
            "_view_module": "@jupyter-widgets/base",
            "_view_module_version": "1.2.0",
            "_view_name": "LayoutView",
            "align_content": null,
            "align_items": null,
            "align_self": null,
            "border": null,
            "bottom": null,
            "display": null,
            "flex": null,
            "flex_flow": null,
            "grid_area": null,
            "grid_auto_columns": null,
            "grid_auto_flow": null,
            "grid_auto_rows": null,
            "grid_column": null,
            "grid_gap": null,
            "grid_row": null,
            "grid_template_areas": null,
            "grid_template_columns": null,
            "grid_template_rows": null,
            "height": null,
            "justify_content": null,
            "justify_items": null,
            "left": null,
            "margin": null,
            "max_height": null,
            "max_width": null,
            "min_height": null,
            "min_width": null,
            "object_fit": null,
            "object_position": null,
            "order": null,
            "overflow": null,
            "overflow_x": null,
            "overflow_y": null,
            "padding": null,
            "right": null,
            "top": null,
            "visibility": null,
            "width": null
          }
        },
        "fc5b4fb731834b78a259ee3c1ae62983": {
          "model_module": "@jupyter-widgets/base",
          "model_name": "LayoutModel",
          "model_module_version": "1.2.0",
          "state": {
            "_model_module": "@jupyter-widgets/base",
            "_model_module_version": "1.2.0",
            "_model_name": "LayoutModel",
            "_view_count": null,
            "_view_module": "@jupyter-widgets/base",
            "_view_module_version": "1.2.0",
            "_view_name": "LayoutView",
            "align_content": null,
            "align_items": null,
            "align_self": null,
            "border": null,
            "bottom": null,
            "display": null,
            "flex": null,
            "flex_flow": null,
            "grid_area": null,
            "grid_auto_columns": null,
            "grid_auto_flow": null,
            "grid_auto_rows": null,
            "grid_column": null,
            "grid_gap": null,
            "grid_row": null,
            "grid_template_areas": null,
            "grid_template_columns": null,
            "grid_template_rows": null,
            "height": null,
            "justify_content": null,
            "justify_items": null,
            "left": null,
            "margin": null,
            "max_height": null,
            "max_width": null,
            "min_height": null,
            "min_width": null,
            "object_fit": null,
            "object_position": null,
            "order": null,
            "overflow": null,
            "overflow_x": null,
            "overflow_y": null,
            "padding": null,
            "right": null,
            "top": null,
            "visibility": null,
            "width": null
          }
        },
        "217cc3b7f0684cc4a54ae66f2b9b36a3": {
          "model_module": "@jupyter-widgets/controls",
          "model_name": "DescriptionStyleModel",
          "model_module_version": "1.5.0",
          "state": {
            "_model_module": "@jupyter-widgets/controls",
            "_model_module_version": "1.5.0",
            "_model_name": "DescriptionStyleModel",
            "_view_count": null,
            "_view_module": "@jupyter-widgets/base",
            "_view_module_version": "1.2.0",
            "_view_name": "StyleView",
            "description_width": ""
          }
        },
        "0c4a53bc194b4aff9b229916200b5bb6": {
          "model_module": "@jupyter-widgets/base",
          "model_name": "LayoutModel",
          "model_module_version": "1.2.0",
          "state": {
            "_model_module": "@jupyter-widgets/base",
            "_model_module_version": "1.2.0",
            "_model_name": "LayoutModel",
            "_view_count": null,
            "_view_module": "@jupyter-widgets/base",
            "_view_module_version": "1.2.0",
            "_view_name": "LayoutView",
            "align_content": null,
            "align_items": null,
            "align_self": null,
            "border": null,
            "bottom": null,
            "display": null,
            "flex": null,
            "flex_flow": null,
            "grid_area": null,
            "grid_auto_columns": null,
            "grid_auto_flow": null,
            "grid_auto_rows": null,
            "grid_column": null,
            "grid_gap": null,
            "grid_row": null,
            "grid_template_areas": null,
            "grid_template_columns": null,
            "grid_template_rows": null,
            "height": null,
            "justify_content": null,
            "justify_items": null,
            "left": null,
            "margin": null,
            "max_height": null,
            "max_width": null,
            "min_height": null,
            "min_width": null,
            "object_fit": null,
            "object_position": null,
            "order": null,
            "overflow": null,
            "overflow_x": null,
            "overflow_y": null,
            "padding": null,
            "right": null,
            "top": null,
            "visibility": null,
            "width": null
          }
        },
        "469e4c56ce974260a559b966ffcd40cf": {
          "model_module": "@jupyter-widgets/controls",
          "model_name": "ProgressStyleModel",
          "model_module_version": "1.5.0",
          "state": {
            "_model_module": "@jupyter-widgets/controls",
            "_model_module_version": "1.5.0",
            "_model_name": "ProgressStyleModel",
            "_view_count": null,
            "_view_module": "@jupyter-widgets/base",
            "_view_module_version": "1.2.0",
            "_view_name": "StyleView",
            "bar_color": null,
            "description_width": ""
          }
        },
        "660878efeb714635a8d265ad987d6fcd": {
          "model_module": "@jupyter-widgets/base",
          "model_name": "LayoutModel",
          "model_module_version": "1.2.0",
          "state": {
            "_model_module": "@jupyter-widgets/base",
            "_model_module_version": "1.2.0",
            "_model_name": "LayoutModel",
            "_view_count": null,
            "_view_module": "@jupyter-widgets/base",
            "_view_module_version": "1.2.0",
            "_view_name": "LayoutView",
            "align_content": null,
            "align_items": null,
            "align_self": null,
            "border": null,
            "bottom": null,
            "display": null,
            "flex": null,
            "flex_flow": null,
            "grid_area": null,
            "grid_auto_columns": null,
            "grid_auto_flow": null,
            "grid_auto_rows": null,
            "grid_column": null,
            "grid_gap": null,
            "grid_row": null,
            "grid_template_areas": null,
            "grid_template_columns": null,
            "grid_template_rows": null,
            "height": null,
            "justify_content": null,
            "justify_items": null,
            "left": null,
            "margin": null,
            "max_height": null,
            "max_width": null,
            "min_height": null,
            "min_width": null,
            "object_fit": null,
            "object_position": null,
            "order": null,
            "overflow": null,
            "overflow_x": null,
            "overflow_y": null,
            "padding": null,
            "right": null,
            "top": null,
            "visibility": null,
            "width": null
          }
        },
        "0b25ceb333034f49b02bc094b8a9f778": {
          "model_module": "@jupyter-widgets/controls",
          "model_name": "DescriptionStyleModel",
          "model_module_version": "1.5.0",
          "state": {
            "_model_module": "@jupyter-widgets/controls",
            "_model_module_version": "1.5.0",
            "_model_name": "DescriptionStyleModel",
            "_view_count": null,
            "_view_module": "@jupyter-widgets/base",
            "_view_module_version": "1.2.0",
            "_view_name": "StyleView",
            "description_width": ""
          }
        },
        "1044bb113d954c49a596e2085936c96a": {
          "model_module": "@jupyter-widgets/controls",
          "model_name": "HBoxModel",
          "model_module_version": "1.5.0",
          "state": {
            "_dom_classes": [],
            "_model_module": "@jupyter-widgets/controls",
            "_model_module_version": "1.5.0",
            "_model_name": "HBoxModel",
            "_view_count": null,
            "_view_module": "@jupyter-widgets/controls",
            "_view_module_version": "1.5.0",
            "_view_name": "HBoxView",
            "box_style": "",
            "children": [
              "IPY_MODEL_8a51af8b745044878ae8e0eca83abc6f",
              "IPY_MODEL_2c1a7ea415cf40048e7fabb4377a387e",
              "IPY_MODEL_b3f2035b723644a9aaf3506b2ae5712b"
            ],
            "layout": "IPY_MODEL_c2fb65d1e88b4275ba19fff8f367cafc"
          }
        },
        "8a51af8b745044878ae8e0eca83abc6f": {
          "model_module": "@jupyter-widgets/controls",
          "model_name": "HTMLModel",
          "model_module_version": "1.5.0",
          "state": {
            "_dom_classes": [],
            "_model_module": "@jupyter-widgets/controls",
            "_model_module_version": "1.5.0",
            "_model_name": "HTMLModel",
            "_view_count": null,
            "_view_module": "@jupyter-widgets/controls",
            "_view_module_version": "1.5.0",
            "_view_name": "HTMLView",
            "description": "",
            "description_tooltip": null,
            "layout": "IPY_MODEL_19f8512e91314d9fb6a01ba815384812",
            "placeholder": "​",
            "style": "IPY_MODEL_b201f9d3a7694e4baca3e2411424f647",
            "value": "100%"
          }
        },
        "2c1a7ea415cf40048e7fabb4377a387e": {
          "model_module": "@jupyter-widgets/controls",
          "model_name": "FloatProgressModel",
          "model_module_version": "1.5.0",
          "state": {
            "_dom_classes": [],
            "_model_module": "@jupyter-widgets/controls",
            "_model_module_version": "1.5.0",
            "_model_name": "FloatProgressModel",
            "_view_count": null,
            "_view_module": "@jupyter-widgets/controls",
            "_view_module_version": "1.5.0",
            "_view_name": "ProgressView",
            "bar_style": "success",
            "description": "",
            "description_tooltip": null,
            "layout": "IPY_MODEL_0e473b238bba4a459a135f8694d3e0cf",
            "max": 50,
            "min": 0,
            "orientation": "horizontal",
            "style": "IPY_MODEL_baee57c3445d4f868f521232bed5e4e0",
            "value": 50
          }
        },
        "b3f2035b723644a9aaf3506b2ae5712b": {
          "model_module": "@jupyter-widgets/controls",
          "model_name": "HTMLModel",
          "model_module_version": "1.5.0",
          "state": {
            "_dom_classes": [],
            "_model_module": "@jupyter-widgets/controls",
            "_model_module_version": "1.5.0",
            "_model_name": "HTMLModel",
            "_view_count": null,
            "_view_module": "@jupyter-widgets/controls",
            "_view_module_version": "1.5.0",
            "_view_name": "HTMLView",
            "description": "",
            "description_tooltip": null,
            "layout": "IPY_MODEL_ea70d76b7f2f48c28d1ca7bbd437b079",
            "placeholder": "​",
            "style": "IPY_MODEL_140f2b64f9d5414a89889ddb0cfd03af",
            "value": " 50/50 [00:18&lt;00:00,  2.69it/s]"
          }
        },
        "c2fb65d1e88b4275ba19fff8f367cafc": {
          "model_module": "@jupyter-widgets/base",
          "model_name": "LayoutModel",
          "model_module_version": "1.2.0",
          "state": {
            "_model_module": "@jupyter-widgets/base",
            "_model_module_version": "1.2.0",
            "_model_name": "LayoutModel",
            "_view_count": null,
            "_view_module": "@jupyter-widgets/base",
            "_view_module_version": "1.2.0",
            "_view_name": "LayoutView",
            "align_content": null,
            "align_items": null,
            "align_self": null,
            "border": null,
            "bottom": null,
            "display": null,
            "flex": null,
            "flex_flow": null,
            "grid_area": null,
            "grid_auto_columns": null,
            "grid_auto_flow": null,
            "grid_auto_rows": null,
            "grid_column": null,
            "grid_gap": null,
            "grid_row": null,
            "grid_template_areas": null,
            "grid_template_columns": null,
            "grid_template_rows": null,
            "height": null,
            "justify_content": null,
            "justify_items": null,
            "left": null,
            "margin": null,
            "max_height": null,
            "max_width": null,
            "min_height": null,
            "min_width": null,
            "object_fit": null,
            "object_position": null,
            "order": null,
            "overflow": null,
            "overflow_x": null,
            "overflow_y": null,
            "padding": null,
            "right": null,
            "top": null,
            "visibility": null,
            "width": null
          }
        },
        "19f8512e91314d9fb6a01ba815384812": {
          "model_module": "@jupyter-widgets/base",
          "model_name": "LayoutModel",
          "model_module_version": "1.2.0",
          "state": {
            "_model_module": "@jupyter-widgets/base",
            "_model_module_version": "1.2.0",
            "_model_name": "LayoutModel",
            "_view_count": null,
            "_view_module": "@jupyter-widgets/base",
            "_view_module_version": "1.2.0",
            "_view_name": "LayoutView",
            "align_content": null,
            "align_items": null,
            "align_self": null,
            "border": null,
            "bottom": null,
            "display": null,
            "flex": null,
            "flex_flow": null,
            "grid_area": null,
            "grid_auto_columns": null,
            "grid_auto_flow": null,
            "grid_auto_rows": null,
            "grid_column": null,
            "grid_gap": null,
            "grid_row": null,
            "grid_template_areas": null,
            "grid_template_columns": null,
            "grid_template_rows": null,
            "height": null,
            "justify_content": null,
            "justify_items": null,
            "left": null,
            "margin": null,
            "max_height": null,
            "max_width": null,
            "min_height": null,
            "min_width": null,
            "object_fit": null,
            "object_position": null,
            "order": null,
            "overflow": null,
            "overflow_x": null,
            "overflow_y": null,
            "padding": null,
            "right": null,
            "top": null,
            "visibility": null,
            "width": null
          }
        },
        "b201f9d3a7694e4baca3e2411424f647": {
          "model_module": "@jupyter-widgets/controls",
          "model_name": "DescriptionStyleModel",
          "model_module_version": "1.5.0",
          "state": {
            "_model_module": "@jupyter-widgets/controls",
            "_model_module_version": "1.5.0",
            "_model_name": "DescriptionStyleModel",
            "_view_count": null,
            "_view_module": "@jupyter-widgets/base",
            "_view_module_version": "1.2.0",
            "_view_name": "StyleView",
            "description_width": ""
          }
        },
        "0e473b238bba4a459a135f8694d3e0cf": {
          "model_module": "@jupyter-widgets/base",
          "model_name": "LayoutModel",
          "model_module_version": "1.2.0",
          "state": {
            "_model_module": "@jupyter-widgets/base",
            "_model_module_version": "1.2.0",
            "_model_name": "LayoutModel",
            "_view_count": null,
            "_view_module": "@jupyter-widgets/base",
            "_view_module_version": "1.2.0",
            "_view_name": "LayoutView",
            "align_content": null,
            "align_items": null,
            "align_self": null,
            "border": null,
            "bottom": null,
            "display": null,
            "flex": null,
            "flex_flow": null,
            "grid_area": null,
            "grid_auto_columns": null,
            "grid_auto_flow": null,
            "grid_auto_rows": null,
            "grid_column": null,
            "grid_gap": null,
            "grid_row": null,
            "grid_template_areas": null,
            "grid_template_columns": null,
            "grid_template_rows": null,
            "height": null,
            "justify_content": null,
            "justify_items": null,
            "left": null,
            "margin": null,
            "max_height": null,
            "max_width": null,
            "min_height": null,
            "min_width": null,
            "object_fit": null,
            "object_position": null,
            "order": null,
            "overflow": null,
            "overflow_x": null,
            "overflow_y": null,
            "padding": null,
            "right": null,
            "top": null,
            "visibility": null,
            "width": null
          }
        },
        "baee57c3445d4f868f521232bed5e4e0": {
          "model_module": "@jupyter-widgets/controls",
          "model_name": "ProgressStyleModel",
          "model_module_version": "1.5.0",
          "state": {
            "_model_module": "@jupyter-widgets/controls",
            "_model_module_version": "1.5.0",
            "_model_name": "ProgressStyleModel",
            "_view_count": null,
            "_view_module": "@jupyter-widgets/base",
            "_view_module_version": "1.2.0",
            "_view_name": "StyleView",
            "bar_color": null,
            "description_width": ""
          }
        },
        "ea70d76b7f2f48c28d1ca7bbd437b079": {
          "model_module": "@jupyter-widgets/base",
          "model_name": "LayoutModel",
          "model_module_version": "1.2.0",
          "state": {
            "_model_module": "@jupyter-widgets/base",
            "_model_module_version": "1.2.0",
            "_model_name": "LayoutModel",
            "_view_count": null,
            "_view_module": "@jupyter-widgets/base",
            "_view_module_version": "1.2.0",
            "_view_name": "LayoutView",
            "align_content": null,
            "align_items": null,
            "align_self": null,
            "border": null,
            "bottom": null,
            "display": null,
            "flex": null,
            "flex_flow": null,
            "grid_area": null,
            "grid_auto_columns": null,
            "grid_auto_flow": null,
            "grid_auto_rows": null,
            "grid_column": null,
            "grid_gap": null,
            "grid_row": null,
            "grid_template_areas": null,
            "grid_template_columns": null,
            "grid_template_rows": null,
            "height": null,
            "justify_content": null,
            "justify_items": null,
            "left": null,
            "margin": null,
            "max_height": null,
            "max_width": null,
            "min_height": null,
            "min_width": null,
            "object_fit": null,
            "object_position": null,
            "order": null,
            "overflow": null,
            "overflow_x": null,
            "overflow_y": null,
            "padding": null,
            "right": null,
            "top": null,
            "visibility": null,
            "width": null
          }
        },
        "140f2b64f9d5414a89889ddb0cfd03af": {
          "model_module": "@jupyter-widgets/controls",
          "model_name": "DescriptionStyleModel",
          "model_module_version": "1.5.0",
          "state": {
            "_model_module": "@jupyter-widgets/controls",
            "_model_module_version": "1.5.0",
            "_model_name": "DescriptionStyleModel",
            "_view_count": null,
            "_view_module": "@jupyter-widgets/base",
            "_view_module_version": "1.2.0",
            "_view_name": "StyleView",
            "description_width": ""
          }
        },
        "c12e54217e494e43b6c7cca593a68076": {
          "model_module": "@jupyter-widgets/controls",
          "model_name": "HBoxModel",
          "model_module_version": "1.5.0",
          "state": {
            "_dom_classes": [],
            "_model_module": "@jupyter-widgets/controls",
            "_model_module_version": "1.5.0",
            "_model_name": "HBoxModel",
            "_view_count": null,
            "_view_module": "@jupyter-widgets/controls",
            "_view_module_version": "1.5.0",
            "_view_name": "HBoxView",
            "box_style": "",
            "children": [
              "IPY_MODEL_4d68a221345c46b7b8e8e27bc109ff92",
              "IPY_MODEL_09fb4ef3326940fc9a4bbaf5dbde5345",
              "IPY_MODEL_63b0a709f2c348e7b8f5e0ad76755889"
            ],
            "layout": "IPY_MODEL_616c54df065a453fa0530e19a47a41f0"
          }
        },
        "4d68a221345c46b7b8e8e27bc109ff92": {
          "model_module": "@jupyter-widgets/controls",
          "model_name": "HTMLModel",
          "model_module_version": "1.5.0",
          "state": {
            "_dom_classes": [],
            "_model_module": "@jupyter-widgets/controls",
            "_model_module_version": "1.5.0",
            "_model_name": "HTMLModel",
            "_view_count": null,
            "_view_module": "@jupyter-widgets/controls",
            "_view_module_version": "1.5.0",
            "_view_name": "HTMLView",
            "description": "",
            "description_tooltip": null,
            "layout": "IPY_MODEL_3415c111ce5f44b5a498350cb761ec20",
            "placeholder": "​",
            "style": "IPY_MODEL_b551b7761f334cf085f8a348993c3013",
            "value": "Loading pipeline components...: 100%"
          }
        },
        "09fb4ef3326940fc9a4bbaf5dbde5345": {
          "model_module": "@jupyter-widgets/controls",
          "model_name": "FloatProgressModel",
          "model_module_version": "1.5.0",
          "state": {
            "_dom_classes": [],
            "_model_module": "@jupyter-widgets/controls",
            "_model_module_version": "1.5.0",
            "_model_name": "FloatProgressModel",
            "_view_count": null,
            "_view_module": "@jupyter-widgets/controls",
            "_view_module_version": "1.5.0",
            "_view_name": "ProgressView",
            "bar_style": "success",
            "description": "",
            "description_tooltip": null,
            "layout": "IPY_MODEL_b3c63c9f6a194c5ba1fd25258ae4a719",
            "max": 6,
            "min": 0,
            "orientation": "horizontal",
            "style": "IPY_MODEL_edb3fe98da784c67b7278f51fb876fc0",
            "value": 6
          }
        },
        "63b0a709f2c348e7b8f5e0ad76755889": {
          "model_module": "@jupyter-widgets/controls",
          "model_name": "HTMLModel",
          "model_module_version": "1.5.0",
          "state": {
            "_dom_classes": [],
            "_model_module": "@jupyter-widgets/controls",
            "_model_module_version": "1.5.0",
            "_model_name": "HTMLModel",
            "_view_count": null,
            "_view_module": "@jupyter-widgets/controls",
            "_view_module_version": "1.5.0",
            "_view_name": "HTMLView",
            "description": "",
            "description_tooltip": null,
            "layout": "IPY_MODEL_e534d3f79fbe47e198dd95f2f53eaa1a",
            "placeholder": "​",
            "style": "IPY_MODEL_8fac0907bdfc40649e03160e20990311",
            "value": " 6/6 [00:21&lt;00:00,  2.94s/it]"
          }
        },
        "616c54df065a453fa0530e19a47a41f0": {
          "model_module": "@jupyter-widgets/base",
          "model_name": "LayoutModel",
          "model_module_version": "1.2.0",
          "state": {
            "_model_module": "@jupyter-widgets/base",
            "_model_module_version": "1.2.0",
            "_model_name": "LayoutModel",
            "_view_count": null,
            "_view_module": "@jupyter-widgets/base",
            "_view_module_version": "1.2.0",
            "_view_name": "LayoutView",
            "align_content": null,
            "align_items": null,
            "align_self": null,
            "border": null,
            "bottom": null,
            "display": null,
            "flex": null,
            "flex_flow": null,
            "grid_area": null,
            "grid_auto_columns": null,
            "grid_auto_flow": null,
            "grid_auto_rows": null,
            "grid_column": null,
            "grid_gap": null,
            "grid_row": null,
            "grid_template_areas": null,
            "grid_template_columns": null,
            "grid_template_rows": null,
            "height": null,
            "justify_content": null,
            "justify_items": null,
            "left": null,
            "margin": null,
            "max_height": null,
            "max_width": null,
            "min_height": null,
            "min_width": null,
            "object_fit": null,
            "object_position": null,
            "order": null,
            "overflow": null,
            "overflow_x": null,
            "overflow_y": null,
            "padding": null,
            "right": null,
            "top": null,
            "visibility": null,
            "width": null
          }
        },
        "3415c111ce5f44b5a498350cb761ec20": {
          "model_module": "@jupyter-widgets/base",
          "model_name": "LayoutModel",
          "model_module_version": "1.2.0",
          "state": {
            "_model_module": "@jupyter-widgets/base",
            "_model_module_version": "1.2.0",
            "_model_name": "LayoutModel",
            "_view_count": null,
            "_view_module": "@jupyter-widgets/base",
            "_view_module_version": "1.2.0",
            "_view_name": "LayoutView",
            "align_content": null,
            "align_items": null,
            "align_self": null,
            "border": null,
            "bottom": null,
            "display": null,
            "flex": null,
            "flex_flow": null,
            "grid_area": null,
            "grid_auto_columns": null,
            "grid_auto_flow": null,
            "grid_auto_rows": null,
            "grid_column": null,
            "grid_gap": null,
            "grid_row": null,
            "grid_template_areas": null,
            "grid_template_columns": null,
            "grid_template_rows": null,
            "height": null,
            "justify_content": null,
            "justify_items": null,
            "left": null,
            "margin": null,
            "max_height": null,
            "max_width": null,
            "min_height": null,
            "min_width": null,
            "object_fit": null,
            "object_position": null,
            "order": null,
            "overflow": null,
            "overflow_x": null,
            "overflow_y": null,
            "padding": null,
            "right": null,
            "top": null,
            "visibility": null,
            "width": null
          }
        },
        "b551b7761f334cf085f8a348993c3013": {
          "model_module": "@jupyter-widgets/controls",
          "model_name": "DescriptionStyleModel",
          "model_module_version": "1.5.0",
          "state": {
            "_model_module": "@jupyter-widgets/controls",
            "_model_module_version": "1.5.0",
            "_model_name": "DescriptionStyleModel",
            "_view_count": null,
            "_view_module": "@jupyter-widgets/base",
            "_view_module_version": "1.2.0",
            "_view_name": "StyleView",
            "description_width": ""
          }
        },
        "b3c63c9f6a194c5ba1fd25258ae4a719": {
          "model_module": "@jupyter-widgets/base",
          "model_name": "LayoutModel",
          "model_module_version": "1.2.0",
          "state": {
            "_model_module": "@jupyter-widgets/base",
            "_model_module_version": "1.2.0",
            "_model_name": "LayoutModel",
            "_view_count": null,
            "_view_module": "@jupyter-widgets/base",
            "_view_module_version": "1.2.0",
            "_view_name": "LayoutView",
            "align_content": null,
            "align_items": null,
            "align_self": null,
            "border": null,
            "bottom": null,
            "display": null,
            "flex": null,
            "flex_flow": null,
            "grid_area": null,
            "grid_auto_columns": null,
            "grid_auto_flow": null,
            "grid_auto_rows": null,
            "grid_column": null,
            "grid_gap": null,
            "grid_row": null,
            "grid_template_areas": null,
            "grid_template_columns": null,
            "grid_template_rows": null,
            "height": null,
            "justify_content": null,
            "justify_items": null,
            "left": null,
            "margin": null,
            "max_height": null,
            "max_width": null,
            "min_height": null,
            "min_width": null,
            "object_fit": null,
            "object_position": null,
            "order": null,
            "overflow": null,
            "overflow_x": null,
            "overflow_y": null,
            "padding": null,
            "right": null,
            "top": null,
            "visibility": null,
            "width": null
          }
        },
        "edb3fe98da784c67b7278f51fb876fc0": {
          "model_module": "@jupyter-widgets/controls",
          "model_name": "ProgressStyleModel",
          "model_module_version": "1.5.0",
          "state": {
            "_model_module": "@jupyter-widgets/controls",
            "_model_module_version": "1.5.0",
            "_model_name": "ProgressStyleModel",
            "_view_count": null,
            "_view_module": "@jupyter-widgets/base",
            "_view_module_version": "1.2.0",
            "_view_name": "StyleView",
            "bar_color": null,
            "description_width": ""
          }
        },
        "e534d3f79fbe47e198dd95f2f53eaa1a": {
          "model_module": "@jupyter-widgets/base",
          "model_name": "LayoutModel",
          "model_module_version": "1.2.0",
          "state": {
            "_model_module": "@jupyter-widgets/base",
            "_model_module_version": "1.2.0",
            "_model_name": "LayoutModel",
            "_view_count": null,
            "_view_module": "@jupyter-widgets/base",
            "_view_module_version": "1.2.0",
            "_view_name": "LayoutView",
            "align_content": null,
            "align_items": null,
            "align_self": null,
            "border": null,
            "bottom": null,
            "display": null,
            "flex": null,
            "flex_flow": null,
            "grid_area": null,
            "grid_auto_columns": null,
            "grid_auto_flow": null,
            "grid_auto_rows": null,
            "grid_column": null,
            "grid_gap": null,
            "grid_row": null,
            "grid_template_areas": null,
            "grid_template_columns": null,
            "grid_template_rows": null,
            "height": null,
            "justify_content": null,
            "justify_items": null,
            "left": null,
            "margin": null,
            "max_height": null,
            "max_width": null,
            "min_height": null,
            "min_width": null,
            "object_fit": null,
            "object_position": null,
            "order": null,
            "overflow": null,
            "overflow_x": null,
            "overflow_y": null,
            "padding": null,
            "right": null,
            "top": null,
            "visibility": null,
            "width": null
          }
        },
        "8fac0907bdfc40649e03160e20990311": {
          "model_module": "@jupyter-widgets/controls",
          "model_name": "DescriptionStyleModel",
          "model_module_version": "1.5.0",
          "state": {
            "_model_module": "@jupyter-widgets/controls",
            "_model_module_version": "1.5.0",
            "_model_name": "DescriptionStyleModel",
            "_view_count": null,
            "_view_module": "@jupyter-widgets/base",
            "_view_module_version": "1.2.0",
            "_view_name": "StyleView",
            "description_width": ""
          }
        },
        "dbd4756930834314af012c00d2b5a1e0": {
          "model_module": "@jupyter-widgets/controls",
          "model_name": "HBoxModel",
          "model_module_version": "1.5.0",
          "state": {
            "_dom_classes": [],
            "_model_module": "@jupyter-widgets/controls",
            "_model_module_version": "1.5.0",
            "_model_name": "HBoxModel",
            "_view_count": null,
            "_view_module": "@jupyter-widgets/controls",
            "_view_module_version": "1.5.0",
            "_view_name": "HBoxView",
            "box_style": "",
            "children": [
              "IPY_MODEL_e908cf8e216a4283a50a7894819e1d39",
              "IPY_MODEL_7d162ff74943460d92381f38c8fb4eb1",
              "IPY_MODEL_b09d569f6aa4436493da0fcbaf913d49"
            ],
            "layout": "IPY_MODEL_106d2c77e8854932838a96b73ce52fd6"
          }
        },
        "e908cf8e216a4283a50a7894819e1d39": {
          "model_module": "@jupyter-widgets/controls",
          "model_name": "HTMLModel",
          "model_module_version": "1.5.0",
          "state": {
            "_dom_classes": [],
            "_model_module": "@jupyter-widgets/controls",
            "_model_module_version": "1.5.0",
            "_model_name": "HTMLModel",
            "_view_count": null,
            "_view_module": "@jupyter-widgets/controls",
            "_view_module_version": "1.5.0",
            "_view_name": "HTMLView",
            "description": "",
            "description_tooltip": null,
            "layout": "IPY_MODEL_6fba84c2ca3e4613bbd21d2eb28bfd8d",
            "placeholder": "​",
            "style": "IPY_MODEL_45e05f413a43491b95b7d200198b6704",
            "value": "100%"
          }
        },
        "7d162ff74943460d92381f38c8fb4eb1": {
          "model_module": "@jupyter-widgets/controls",
          "model_name": "FloatProgressModel",
          "model_module_version": "1.5.0",
          "state": {
            "_dom_classes": [],
            "_model_module": "@jupyter-widgets/controls",
            "_model_module_version": "1.5.0",
            "_model_name": "FloatProgressModel",
            "_view_count": null,
            "_view_module": "@jupyter-widgets/controls",
            "_view_module_version": "1.5.0",
            "_view_name": "ProgressView",
            "bar_style": "success",
            "description": "",
            "description_tooltip": null,
            "layout": "IPY_MODEL_0a77d96d04d14b3199cb8b367069a943",
            "max": 50,
            "min": 0,
            "orientation": "horizontal",
            "style": "IPY_MODEL_c13a40e59f324bb78abae386155c2a36",
            "value": 50
          }
        },
        "b09d569f6aa4436493da0fcbaf913d49": {
          "model_module": "@jupyter-widgets/controls",
          "model_name": "HTMLModel",
          "model_module_version": "1.5.0",
          "state": {
            "_dom_classes": [],
            "_model_module": "@jupyter-widgets/controls",
            "_model_module_version": "1.5.0",
            "_model_name": "HTMLModel",
            "_view_count": null,
            "_view_module": "@jupyter-widgets/controls",
            "_view_module_version": "1.5.0",
            "_view_name": "HTMLView",
            "description": "",
            "description_tooltip": null,
            "layout": "IPY_MODEL_843685566b6c4fb9b0c989249dbe20fb",
            "placeholder": "​",
            "style": "IPY_MODEL_c6333bdb15dd497cb802eb08d46ea002",
            "value": " 50/50 [00:19&lt;00:00,  2.52it/s]"
          }
        },
        "106d2c77e8854932838a96b73ce52fd6": {
          "model_module": "@jupyter-widgets/base",
          "model_name": "LayoutModel",
          "model_module_version": "1.2.0",
          "state": {
            "_model_module": "@jupyter-widgets/base",
            "_model_module_version": "1.2.0",
            "_model_name": "LayoutModel",
            "_view_count": null,
            "_view_module": "@jupyter-widgets/base",
            "_view_module_version": "1.2.0",
            "_view_name": "LayoutView",
            "align_content": null,
            "align_items": null,
            "align_self": null,
            "border": null,
            "bottom": null,
            "display": null,
            "flex": null,
            "flex_flow": null,
            "grid_area": null,
            "grid_auto_columns": null,
            "grid_auto_flow": null,
            "grid_auto_rows": null,
            "grid_column": null,
            "grid_gap": null,
            "grid_row": null,
            "grid_template_areas": null,
            "grid_template_columns": null,
            "grid_template_rows": null,
            "height": null,
            "justify_content": null,
            "justify_items": null,
            "left": null,
            "margin": null,
            "max_height": null,
            "max_width": null,
            "min_height": null,
            "min_width": null,
            "object_fit": null,
            "object_position": null,
            "order": null,
            "overflow": null,
            "overflow_x": null,
            "overflow_y": null,
            "padding": null,
            "right": null,
            "top": null,
            "visibility": null,
            "width": null
          }
        },
        "6fba84c2ca3e4613bbd21d2eb28bfd8d": {
          "model_module": "@jupyter-widgets/base",
          "model_name": "LayoutModel",
          "model_module_version": "1.2.0",
          "state": {
            "_model_module": "@jupyter-widgets/base",
            "_model_module_version": "1.2.0",
            "_model_name": "LayoutModel",
            "_view_count": null,
            "_view_module": "@jupyter-widgets/base",
            "_view_module_version": "1.2.0",
            "_view_name": "LayoutView",
            "align_content": null,
            "align_items": null,
            "align_self": null,
            "border": null,
            "bottom": null,
            "display": null,
            "flex": null,
            "flex_flow": null,
            "grid_area": null,
            "grid_auto_columns": null,
            "grid_auto_flow": null,
            "grid_auto_rows": null,
            "grid_column": null,
            "grid_gap": null,
            "grid_row": null,
            "grid_template_areas": null,
            "grid_template_columns": null,
            "grid_template_rows": null,
            "height": null,
            "justify_content": null,
            "justify_items": null,
            "left": null,
            "margin": null,
            "max_height": null,
            "max_width": null,
            "min_height": null,
            "min_width": null,
            "object_fit": null,
            "object_position": null,
            "order": null,
            "overflow": null,
            "overflow_x": null,
            "overflow_y": null,
            "padding": null,
            "right": null,
            "top": null,
            "visibility": null,
            "width": null
          }
        },
        "45e05f413a43491b95b7d200198b6704": {
          "model_module": "@jupyter-widgets/controls",
          "model_name": "DescriptionStyleModel",
          "model_module_version": "1.5.0",
          "state": {
            "_model_module": "@jupyter-widgets/controls",
            "_model_module_version": "1.5.0",
            "_model_name": "DescriptionStyleModel",
            "_view_count": null,
            "_view_module": "@jupyter-widgets/base",
            "_view_module_version": "1.2.0",
            "_view_name": "StyleView",
            "description_width": ""
          }
        },
        "0a77d96d04d14b3199cb8b367069a943": {
          "model_module": "@jupyter-widgets/base",
          "model_name": "LayoutModel",
          "model_module_version": "1.2.0",
          "state": {
            "_model_module": "@jupyter-widgets/base",
            "_model_module_version": "1.2.0",
            "_model_name": "LayoutModel",
            "_view_count": null,
            "_view_module": "@jupyter-widgets/base",
            "_view_module_version": "1.2.0",
            "_view_name": "LayoutView",
            "align_content": null,
            "align_items": null,
            "align_self": null,
            "border": null,
            "bottom": null,
            "display": null,
            "flex": null,
            "flex_flow": null,
            "grid_area": null,
            "grid_auto_columns": null,
            "grid_auto_flow": null,
            "grid_auto_rows": null,
            "grid_column": null,
            "grid_gap": null,
            "grid_row": null,
            "grid_template_areas": null,
            "grid_template_columns": null,
            "grid_template_rows": null,
            "height": null,
            "justify_content": null,
            "justify_items": null,
            "left": null,
            "margin": null,
            "max_height": null,
            "max_width": null,
            "min_height": null,
            "min_width": null,
            "object_fit": null,
            "object_position": null,
            "order": null,
            "overflow": null,
            "overflow_x": null,
            "overflow_y": null,
            "padding": null,
            "right": null,
            "top": null,
            "visibility": null,
            "width": null
          }
        },
        "c13a40e59f324bb78abae386155c2a36": {
          "model_module": "@jupyter-widgets/controls",
          "model_name": "ProgressStyleModel",
          "model_module_version": "1.5.0",
          "state": {
            "_model_module": "@jupyter-widgets/controls",
            "_model_module_version": "1.5.0",
            "_model_name": "ProgressStyleModel",
            "_view_count": null,
            "_view_module": "@jupyter-widgets/base",
            "_view_module_version": "1.2.0",
            "_view_name": "StyleView",
            "bar_color": null,
            "description_width": ""
          }
        },
        "843685566b6c4fb9b0c989249dbe20fb": {
          "model_module": "@jupyter-widgets/base",
          "model_name": "LayoutModel",
          "model_module_version": "1.2.0",
          "state": {
            "_model_module": "@jupyter-widgets/base",
            "_model_module_version": "1.2.0",
            "_model_name": "LayoutModel",
            "_view_count": null,
            "_view_module": "@jupyter-widgets/base",
            "_view_module_version": "1.2.0",
            "_view_name": "LayoutView",
            "align_content": null,
            "align_items": null,
            "align_self": null,
            "border": null,
            "bottom": null,
            "display": null,
            "flex": null,
            "flex_flow": null,
            "grid_area": null,
            "grid_auto_columns": null,
            "grid_auto_flow": null,
            "grid_auto_rows": null,
            "grid_column": null,
            "grid_gap": null,
            "grid_row": null,
            "grid_template_areas": null,
            "grid_template_columns": null,
            "grid_template_rows": null,
            "height": null,
            "justify_content": null,
            "justify_items": null,
            "left": null,
            "margin": null,
            "max_height": null,
            "max_width": null,
            "min_height": null,
            "min_width": null,
            "object_fit": null,
            "object_position": null,
            "order": null,
            "overflow": null,
            "overflow_x": null,
            "overflow_y": null,
            "padding": null,
            "right": null,
            "top": null,
            "visibility": null,
            "width": null
          }
        },
        "c6333bdb15dd497cb802eb08d46ea002": {
          "model_module": "@jupyter-widgets/controls",
          "model_name": "DescriptionStyleModel",
          "model_module_version": "1.5.0",
          "state": {
            "_model_module": "@jupyter-widgets/controls",
            "_model_module_version": "1.5.0",
            "_model_name": "DescriptionStyleModel",
            "_view_count": null,
            "_view_module": "@jupyter-widgets/base",
            "_view_module_version": "1.2.0",
            "_view_name": "StyleView",
            "description_width": ""
          }
        }
      }
    }
  },
  "nbformat": 4,
  "nbformat_minor": 0
}